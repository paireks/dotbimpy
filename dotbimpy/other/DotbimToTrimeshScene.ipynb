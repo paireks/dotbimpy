{
 "cells": [
  {
   "cell_type": "code",
   "execution_count": null,
   "id": "d27419f9",
   "metadata": {},
   "outputs": [],
   "source": [
    "from dotbimpy import *\n",
    "import trimesh\n",
    "\n",
    "# Warning: trimesh currently has some problems with face_colors. Check manually if conversion was done correctly.\n",
    "\n",
    "def divide_to_chunks(list_to_divide, chunk_size):\n",
    "    for i in range(0, len(list_to_divide), chunk_size):\n",
    "        yield list_to_divide[i:i + chunk_size]\n",
    "\n",
    "def convert_dotbim_mesh_to_trimesh(mesh_to_convert, element):\n",
    "    faces = list(divide_to_chunks(mesh_to_convert.indices, 3))\n",
    "\n",
    "    vertices = []\n",
    "    counter = 0\n",
    "    while counter < len(mesh_to_convert.coordinates):\n",
    "        point = np.array([\n",
    "            mesh_to_convert.coordinates[counter],\n",
    "            mesh_to_convert.coordinates[counter + 1],\n",
    "            mesh_to_convert.coordinates[counter + 2]])\n",
    "\n",
    "        rotation = pyquaternion.Quaternion(\n",
    "            a=element.rotation.qw,\n",
    "            b=element.rotation.qx,\n",
    "            c=element.rotation.qy,\n",
    "            d=element.rotation.qz)\n",
    "        \n",
    "        point_rotated = rotation.rotate(point)\n",
    "        vertices.append([point_rotated[0] + element.vector.x, point_rotated[1] + element.vector.y, point_rotated[2] + element.vector.z])\n",
    "        counter += 3\n",
    "\n",
    "    mesh = trimesh.Trimesh(vertices=vertices, faces=faces)\n",
    "    dotbim_face_colors = []\n",
    "    if element.check_if_has_face_colors():\n",
    "        i = 0\n",
    "        while i < len(element.face_colors):\n",
    "            current_list = [element.face_colors[i], element.face_colors[i+1], element.face_colors[i+2], element.face_colors[i+3]]\n",
    "            dotbim_face_colors.append(current_list)\n",
    "            i+=4\n",
    "    else:\n",
    "        dotbim_face_colors = [element.color.r, element.color.g, element.color.b, element.color.a]\n",
    "\n",
    "    mesh.visual.face_colors = dotbim_face_colors\n",
    "    mesh.visual.kind == 'face'\n",
    "\n",
    "    return mesh\n",
    "\n",
    "def convert_file_to_trimesh_scene(file):\n",
    "    scene = trimesh.scene.Scene()\n",
    "    for i in file.elements:\n",
    "        mesh = next((x for x in file.meshes if x.mesh_id == i.mesh_id), None)\n",
    "        trimesh_mesh = convert_dotbim_mesh_to_trimesh(mesh_to_convert=mesh, element=i)\n",
    "        scene.add_geometry(trimesh_mesh)\n",
    "    \n",
    "    return scene"
   ]
  },
  {
   "cell_type": "code",
   "execution_count": null,
   "id": "f6e72805",
   "metadata": {},
   "outputs": [],
   "source": [
    "file = File.read(\"MulticolorHouse.bim\")\n",
    "scene = convert_file_to_trimesh_scene(file)\n",
    "scene.show(smooth=False)"
   ]
  }
 ],
 "metadata": {
  "kernelspec": {
   "display_name": "Python 3 (ipykernel)",
   "language": "python",
   "name": "python3"
  },
  "language_info": {
   "codemirror_mode": {
    "name": "ipython",
    "version": 3
   },
   "file_extension": ".py",
   "mimetype": "text/x-python",
   "name": "python",
   "nbconvert_exporter": "python",
   "pygments_lexer": "ipython3",
   "version": "3.7.11"
  }
 },
 "nbformat": 4,
 "nbformat_minor": 5
}
