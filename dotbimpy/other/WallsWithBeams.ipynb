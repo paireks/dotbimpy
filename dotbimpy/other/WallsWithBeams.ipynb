{
 "cells": [
  {
   "cell_type": "markdown",
   "id": "12f1c758-795e-4d5c-a490-de0b4397a318",
   "metadata": {},
   "source": [
    "# Cadquery + dotbimpy example"
   ]
  },
  {
   "cell_type": "code",
   "execution_count": null,
   "id": "d024fc2a-eb3f-45ab-8ba9-abb2e164b968",
   "metadata": {},
   "outputs": [],
   "source": [
    "from dotbimpy import *\n",
    "import cadquery\n",
    "import uuid"
   ]
  },
  {
   "cell_type": "code",
   "execution_count": null,
   "id": "9bcf4d8e-d5d8-46b7-b598-c026cf91e08d",
   "metadata": {},
   "outputs": [],
   "source": [
    "def cadquery_mesh_to_dotbim_mesh(cadquery_mesh, mesh_id):\n",
    "    vertices, triangles = cadquery_mesh\n",
    "    coordinates = []\n",
    "    for i in vertices:\n",
    "        coordinates.extend([i.x, i.y, i.z])\n",
    "    indices = [item for sublist in triangles for item in sublist]\n",
    "    return Mesh(mesh_id=mesh_id, coordinates=coordinates, indices=indices)"
   ]
  },
  {
   "cell_type": "code",
   "execution_count": null,
   "id": "44d911a0-b4eb-49b4-8d71-7980f6b51b86",
   "metadata": {},
   "outputs": [],
   "source": [
    "meshes = []\n",
    "elements = []\n",
    "\n",
    "(L,H,W,t) = (6000, 300, 200, 10)\n",
    "pts = [(0,H/2.0),(W/2.0,H/2.0),(W/2.0,(H/2.0 - t)),(t/2.0,(H/2.0-t)),(t/2.0,(t - H/2.0)),(W/2.0,(t -H/2.0)),(W/2.0,H/-2.0),(0,H/-2.0)]\n",
    "beam_workplane = cadquery.Workplane(\"XZ\").polyline(pts).mirrorY().extrude(L)\n",
    "beam_mesh_cq = beam_workplane.val().tessellate(0.1)\n",
    "meshes.append(cadquery_mesh_to_dotbim_mesh(beam_mesh_cq, 0))\n",
    "\n",
    "(number_of_beams,spacing,wall_height) = (5,2000,3000)\n",
    "for i in range(number_of_beams):\n",
    "    elements.append(Element(mesh_id=0,\n",
    "                    vector=Vector(x=i*spacing, y=0, z=wall_height/2.0+H/2),\n",
    "                    guid=str(uuid.uuid4()),\n",
    "                    info={\"Material\": \"Steel\"},\n",
    "                    rotation=Rotation(qx=0, qy=0, qz=0, qw=1.0),\n",
    "                    type=\"Beam\",\n",
    "                    color=Color(r=0, g=0, b=255, a=255)))\n",
    "\n",
    "wall_workplane = cadquery.Workplane(\"front\").moveTo((spacing*(number_of_beams-1))/2.0,0).box(spacing*(number_of_beams-1)+W, 200.0, wall_height)\n",
    "wall_mesh_cq = wall_workplane.val().tessellate(0.1)\n",
    "meshes.append(cadquery_mesh_to_dotbim_mesh(wall_mesh_cq, 1))\n",
    "\n",
    "for i in range(2):\n",
    "    elements.append(Element(mesh_id=1,\n",
    "                    vector=Vector(x=0, y=-i*L, z=0),\n",
    "                    guid=str(uuid.uuid4()),\n",
    "                    info={\"Material\": \"Concrete\"},\n",
    "                    rotation=Rotation(qx=0, qy=0, qz=0, qw=1.0),\n",
    "                    type=\"Wall\",\n",
    "                    color=Color(r=255, g=215, b=0, a=255)))\n",
    "\n",
    "\n",
    "file_info = {\"Author\": \"John Doe\"}\n",
    "file = File(\"1.0.0\", meshes=meshes, elements=elements, info=file_info)\n",
    "file.view()\n",
    "file.save(\"WallsWithBeams.bim\")"
   ]
  }
 ],
 "metadata": {
  "kernelspec": {
   "display_name": "Anaconda (base)",
   "language": "python",
   "name": "anaconda-base"
  },
  "language_info": {
   "codemirror_mode": {
    "name": "ipython",
    "version": 3
   },
   "file_extension": ".py",
   "mimetype": "text/x-python",
   "name": "python",
   "nbconvert_exporter": "python",
   "pygments_lexer": "ipython3",
   "version": "3.7.11"
  }
 },
 "nbformat": 4,
 "nbformat_minor": 5
}
