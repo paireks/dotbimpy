{
 "cells": [
  {
   "cell_type": "markdown",
   "id": "9d95439c-243c-46b9-981e-c1ebb4b358b8",
   "metadata": {},
   "source": [
    "# Cadquery + ipywidget + dotbimpy"
   ]
  },
  {
   "cell_type": "code",
   "execution_count": 1,
   "id": "00596700-6ddc-4bf0-b437-325cc942bd3a",
   "metadata": {},
   "outputs": [],
   "source": [
    "from dotbimpy import *\n",
    "from ipywidgets import interact\n",
    "import cadquery\n",
    "import uuid"
   ]
  },
  {
   "cell_type": "code",
   "execution_count": 2,
   "id": "ce601b01-9982-4e1e-a055-003b9f5129c1",
   "metadata": {},
   "outputs": [],
   "source": [
    "def cadquery_mesh_to_dotbim_mesh(cadquery_mesh, mesh_id):\n",
    "    vertices, triangles = cadquery_mesh\n",
    "    coordinates = []\n",
    "    for i in vertices:\n",
    "        coordinates.extend([i.x, i.y, i.z])\n",
    "    indices = [item for sublist in triangles for item in sublist]\n",
    "    return Mesh(mesh_id=mesh_id, coordinates=coordinates, indices=indices)"
   ]
  },
  {
   "cell_type": "code",
   "execution_count": 3,
   "id": "0db56e56-dde0-4abb-8339-1f93ffa7abc4",
   "metadata": {},
   "outputs": [],
   "source": [
    "def create_mesh_tube(plane, face, l, h, t, mesh_id):\n",
    "    workplane = cadquery.Workplane(plane).circle(h).extrude(l).faces(face).workplane().circle(h-t).cutThruAll()\n",
    "    mesh_cq = workplane.val().tessellate(0.1)\n",
    "    mesh = cadquery_mesh_to_dotbim_mesh(mesh_cq, mesh_id)\n",
    "    return mesh\n",
    "\n",
    "def create_tube_element(vector, rotation, color, mesh_id, type_name):\n",
    "    return Element(mesh_id=mesh_id,vector=vector,guid=str(uuid.uuid4()),\n",
    "                   info={\"Material\": \"Steel\"},rotation=rotation,type=type_name,color=color)"
   ]
  },
  {
   "cell_type": "code",
   "execution_count": 10,
   "id": "bc39f142-8f1f-4d65-9d01-6fda00b1aebc",
   "metadata": {},
   "outputs": [],
   "source": [
    "def f(length):\n",
    "    meshes = []\n",
    "    elements = []\n",
    "    \n",
    "    # Creating chords\n",
    "    meshes.append(create_mesh_tube('YZ', '>X', length, 0.03, 0.01, 0))\n",
    "    elements.append(create_tube_element(Vector(0,0.25,0.25), Rotation(0,0,0,1), Color(0,0,255,255), 0, \"Top Chord\"))\n",
    "    elements.append(create_tube_element(Vector(0,-0.25,0.25), Rotation(0,0,0,1), Color(0,0,255,255), 0, \"Top Chord\"))\n",
    "    elements.append(create_tube_element(Vector(0,0.25,-0.25), Rotation(0,0,0,1), Color(0,0,255,255), 0, \"Bottom Chord\"))\n",
    "    elements.append(create_tube_element(Vector(0,-0.25,-0.25), Rotation(0,0,0,1), Color(0,0,255,255), 0, \"Bottom Chord\"))\n",
    "    \n",
    "    # Creating posts\n",
    "    meshes.append(create_mesh_tube('XY', '>Z', 0.46, 0.02, 0.005, 1))\n",
    "    elements.append(create_tube_element(Vector(0.25,0.25,-0.23), Rotation(0,0,0,1), Color(0,255,0,255), 1, \"Post\"))\n",
    "    elements.append(create_tube_element(Vector(0.25,-0.25,-0.23), Rotation(0,0,0,1), Color(0,255,0,255), 1, \"Post\"))\n",
    "    elements.append(create_tube_element(Vector(length-0.25,0.25,-0.23), Rotation(0,0,0,1), Color(0,255,0,255), 1, \"Post\"))\n",
    "    elements.append(create_tube_element(Vector(length-0.25,-0.25,-0.23), Rotation(0,0,0,1), Color(0,255,0,255), 1, \"Post\"))\n",
    "    \n",
    "    # Creating girder\n",
    "    meshes.append(create_mesh_tube('XZ', '>Y', 0.46, 0.02, 0.005, 2))\n",
    "    elements.append(create_tube_element(Vector(0.25,0.23,0.25), Rotation(0,0,0,1), Color(222,49,99,255), 2, \"Girder\"))\n",
    "    elements.append(create_tube_element(Vector(0.25,0.23,-0.25), Rotation(0,0,0,1), Color(222,49,99,255), 2, \"Girder\"))\n",
    "    elements.append(create_tube_element(Vector(length-0.25,0.23,0.25), Rotation(0,0,0,1), Color(222,49,99,255), 2, \"Girder\"))\n",
    "    elements.append(create_tube_element(Vector(length-0.25,0.23,-0.25), Rotation(0,0,0,1), Color(222,49,99,255), 2, \"Girder\"))\n",
    "    \n",
    "    # Creating webs\n",
    "    length_to_fill = length - 0.5\n",
    "    number_of_gaps = int(length_to_fill / 0.5)\n",
    "    meshes.append(create_mesh_tube('YZ', '>X', 1.41421*0.5, 0.015, 0.005, 3))\n",
    "    for i in range(number_of_gaps):\n",
    "        if i % 2 == 0:\n",
    "            elements.append(create_tube_element(Vector(i*0.5+0.25,0.25,0.5/2.0), Rotation(0,0.382683,0,0.92388), Color(255,165,0,255), 3, \"Web\"))\n",
    "            elements.append(create_tube_element(Vector(i*0.5+0.25,-0.25,-0.5/2.0), Rotation(0,-0.382683,0,0.92388), Color(255,165,0,255), 3, \"Web\"))\n",
    "            elements.append(create_tube_element(Vector(i*0.5+0.25,0.25,0.5/2.0), Rotation(0,0,-0.382683,0.92388), Color(255,165,0,255), 3, \"Web\"))\n",
    "            elements.append(create_tube_element(Vector(i*0.5+0.25,-0.25,-0.5/2.0), Rotation(0,0,0.382683,0.92388), Color(255,165,0,255), 3, \"Web\"))\n",
    "        else:\n",
    "            elements.append(create_tube_element(Vector(i*0.5+0.25,0.25,-0.5/2.0), Rotation(0,-0.382683,0,0.92388), Color(255,165,0,255), 3, \"Web\"))\n",
    "            elements.append(create_tube_element(Vector(i*0.5+0.25,-0.25,0.5/2.0), Rotation(0,0.382683,0,0.92388), Color(255,165,0,255), 3, \"Web\"))\n",
    "            elements.append(create_tube_element(Vector(i*0.5+0.25,-0.25,0.5/2.0), Rotation(0,0,0.382683,0.92388), Color(255,165,0,255), 3, \"Web\"))\n",
    "            elements.append(create_tube_element(Vector(i*0.5+0.25,0.25,-0.5/2.0), Rotation(0,0,-0.382683,0.92388), Color(255,165,0,255), 3, \"Web\"))\n",
    "    \n",
    "    # Creating webs on ends\n",
    "    meshes.append(create_mesh_tube('XZ', '>Y', 1.41421*0.5, 0.015, 0.005, 4))\n",
    "    elements.append(create_tube_element(Vector(0.25,0.25,0.5/2.0), Rotation(0.382683,0,0,0.92388), Color(255,105,180,255), 4, \"Web\"))\n",
    "    elements.append(create_tube_element(Vector(length-0.25,0.25,-0.5/2.0), Rotation(-0.382683,0,0,0.92388), Color(255,105,180,255), 4, \"Web\"))\n",
    "    \n",
    "    file = File(\"1.0.0\", meshes=meshes, elements=elements, info={\"Author\": \"John Doe\"})\n",
    "    file.view()\n",
    "    file.save(\"Truss.bim\")"
   ]
  },
  {
   "cell_type": "code",
   "execution_count": 12,
   "id": "04180879-ccdb-490d-a297-a62e304a5bf2",
   "metadata": {
    "tags": []
   },
   "outputs": [
    {
     "data": {
      "application/vnd.jupyter.widget-view+json": {
       "model_id": "bc9cebdf52454b6ba0cb0f7099b7d8c3",
       "version_major": 2,
       "version_minor": 0
      },
      "text/plain": [
       "interactive(children=(FloatSlider(value=6.0, description='length', max=10.0, min=2.0, step=1.0), Output()), _d…"
      ]
     },
     "metadata": {},
     "output_type": "display_data"
    },
    {
     "data": {
      "text/plain": [
       "<function __main__.f(length)>"
      ]
     },
     "execution_count": 12,
     "metadata": {},
     "output_type": "execute_result"
    }
   ],
   "source": [
    "interact(f, length=(2.0, 10.0, 1.00))"
   ]
  }
 ],
 "metadata": {
  "kernelspec": {
   "display_name": "Anaconda (base)",
   "language": "python",
   "name": "anaconda-base"
  },
  "language_info": {
   "codemirror_mode": {
    "name": "ipython",
    "version": 3
   },
   "file_extension": ".py",
   "mimetype": "text/x-python",
   "name": "python",
   "nbconvert_exporter": "python",
   "pygments_lexer": "ipython3",
   "version": "3.7.11"
  }
 },
 "nbformat": 4,
 "nbformat_minor": 5
}
